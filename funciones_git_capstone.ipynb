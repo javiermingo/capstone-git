{
  "nbformat": 4,
  "nbformat_minor": 0,
  "metadata": {
    "colab": {
      "name": "funciones git capstone.ipynb",
      "provenance": []
    },
    "kernelspec": {
      "name": "python3",
      "display_name": "Python 3"
    },
    "language_info": {
      "name": "python"
    }
  },
  "cells": [
    {
      "cell_type": "markdown",
      "source": [
        "Versionamiento en git"
      ],
      "metadata": {
        "id": "kxLiKbmTx7u0"
      }
    },
    {
      "cell_type": "code",
      "source": [
        "#https://www.geeksforgeeks.org/read-json-file-using-python/\n",
        "import json\n",
        "f = open('farmers-protest-tweets-2021-03-5.json')\n",
        "data = json.load(f)\n",
        "f.close()"
      ],
      "metadata": {
        "id": "Bi7YUCKiydnI"
      },
      "execution_count": null,
      "outputs": []
    },
    {
      "cell_type": "markdown",
      "source": [
        "Funcion 1"
      ],
      "metadata": {
        "id": "suuzTZrYy47E"
      }
    },
    {
      "cell_type": "markdown",
      "source": [
        "Funcion 2"
      ],
      "metadata": {
        "id": "jgTZ_17oy51V"
      }
    },
    {
      "cell_type": "markdown",
      "source": [
        "Funcion 3"
      ],
      "metadata": {
        "id": "xbFkz-ZOy61G"
      }
    },
    {
      "cell_type": "markdown",
      "source": [
        "Funcion 4"
      ],
      "metadata": {
        "id": "MPk1BLgGy72v"
      }
    }
  ]
}